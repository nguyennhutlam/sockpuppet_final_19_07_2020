{
  "nbformat": 4,
  "nbformat_minor": 0,
  "metadata": {
    "colab": {
      "name": "2020_07_19_Model_Training_Using_Hyperparameter_Turning_Ensemble_2.ipynb",
      "provenance": [],
      "collapsed_sections": [],
      "authorship_tag": "ABX9TyPPRJlK1zfRvQhsGqBab+/A",
      "include_colab_link": true
    },
    "kernelspec": {
      "name": "python3",
      "display_name": "Python 3"
    }
  },
  "cells": [
    {
      "cell_type": "markdown",
      "metadata": {
        "id": "view-in-github",
        "colab_type": "text"
      },
      "source": [
        "<a href=\"https://colab.research.google.com/github/nguyennhutlam/sockpuppet_final_19_07_2020/blob/master/2020_07_19_Model_Training_Using_Hyperparameter_Turning_Ensemble_2.ipynb\" target=\"_parent\"><img src=\"https://colab.research.google.com/assets/colab-badge.svg\" alt=\"Open In Colab\"/></a>"
      ]
    },
    {
      "cell_type": "markdown",
      "metadata": {
        "id": "lZJY_sASbAaV",
        "colab_type": "text"
      },
      "source": [
        "# Library"
      ]
    },
    {
      "cell_type": "code",
      "metadata": {
        "id": "FY0Pu_SPbDfJ",
        "colab_type": "code",
        "colab": {
          "base_uri": "https://localhost:8080/",
          "height": 71
        },
        "outputId": "5cd0bfa6-c676-4db9-ee5c-bf12a7385c24"
      },
      "source": [
        "import pandas as pd\n",
        "import numpy as np\n",
        "import seaborn as sns\n",
        "# ignore warning\n",
        "import warnings\n",
        "warnings.filterwarnings('ignore')\n",
        "# ML library\n",
        "from sklearn.model_selection import train_test_split \n",
        "from sklearn.preprocessing import StandardScaler\n",
        "scaler = StandardScaler()\n",
        "from sklearn.neighbors import KNeighborsClassifier\n",
        "from sklearn.tree import DecisionTreeClassifier\n",
        "from sklearn.ensemble import RandomForestClassifier\n",
        "from sklearn.naive_bayes import GaussianNB\n",
        "from sklearn.neural_network import MLPClassifier\n",
        "from sklearn.svm import SVC\n",
        "from sklearn.linear_model import LogisticRegression\n",
        "from xgboost import XGBClassifier\n",
        "from sklearn.ensemble import AdaBoostClassifier\n",
        "from sklearn.ensemble import GradientBoostingClassifier\n",
        "from sklearn.ensemble import  VotingClassifier\n",
        "from sklearn.model_selection import cross_validate\n",
        "from sklearn.model_selection import  KFold\n",
        "from sklearn.model_selection import RepeatedStratifiedKFold\n",
        "from sklearn.utils import shuffle\n",
        "\n",
        "import statistics\n",
        "\n",
        "from sklearn.metrics import accuracy_score\n",
        "from sklearn.metrics import recall_score\n",
        "from sklearn.metrics import precision_score\n",
        "from sklearn.metrics import f1_score\n",
        "from sklearn.metrics import roc_auc_score\n",
        "from sklearn.metrics import confusion_matrix\n",
        "import random\n",
        "from numpy.random import seed\n",
        "# evaluation metrics\n",
        "scoring = {'accuracy': 'accuracy', 'recall': 'recall', 'precision': 'precision', 'f1':'f1', 'roc_auc': 'roc_auc'}"
      ],
      "execution_count": 3,
      "outputs": [
        {
          "output_type": "stream",
          "text": [
            "/usr/local/lib/python3.6/dist-packages/statsmodels/tools/_testing.py:19: FutureWarning: pandas.util.testing is deprecated. Use the functions in the public API at pandas.testing instead.\n",
            "  import pandas.util.testing as tm\n"
          ],
          "name": "stderr"
        }
      ]
    },
    {
      "cell_type": "markdown",
      "metadata": {
        "id": "w5NB0T31bQes",
        "colab_type": "text"
      },
      "source": [
        "# Functions"
      ]
    },
    {
      "cell_type": "code",
      "metadata": {
        "id": "zgrexWgzbUWj",
        "colab_type": "code",
        "colab": {}
      },
      "source": [
        "# This function is used for undersampling\n",
        "# paramters: \n",
        "#   data: dataset\n",
        "#   ration: ratio between minority class and mojority class       \n",
        "def undersampling(data, ratio):\n",
        "  B1_class_len = len(data[data['class'] == 0]) #lenght of the minority class (B1: sockpuppet accounts) #163\n",
        "  legitimate_indices = data[data['class'] == 1].index\n",
        "  random_legitimate_indices = np.random.choice(legitimate_indices, B1_class_len * ratio, replace = True)\n",
        "  B1_class_indices = data[data['class'] == 0].index\n",
        "  under_sampe_indices = np.concatenate([B1_class_indices, random_legitimate_indices])\n",
        "  under_sample = data.loc[under_sampe_indices]\n",
        "  return under_sample #return the undersampled dataset"
      ],
      "execution_count": 4,
      "outputs": []
    },
    {
      "cell_type": "markdown",
      "metadata": {
        "id": "uJPGuQbEcaYk",
        "colab_type": "text"
      },
      "source": [
        "Training a model using cross validation \\\\\n",
        "model: ML classifier \\\\\n",
        "fold: #fold for cross validate \\\\\n",
        "X, y : training set"
      ]
    },
    {
      "cell_type": "code",
      "metadata": {
        "id": "enm9J_s_btG3",
        "colab_type": "code",
        "colab": {}
      },
      "source": [
        "def train_cross_val(model,label, fold, X, y):\n",
        "    cv = KFold(n_splits=fold, shuffle=True, random_state=1)\n",
        "    decimal = 3\n",
        "    acc = []\n",
        "    pre = []\n",
        "    rec = []\n",
        "    f1s = []\n",
        "    auc = []\n",
        "    df_pred = pd.DataFrame() # dataframe stores the prediction for each sample\n",
        "    df_pred_prob = pd.DataFrame() # dataframe stores the predict probability for each sample\n",
        "    cf_matrix = np.zeros((2,2))\n",
        "    for train, test in (cv.split(X, y)):\n",
        "      model.fit(X[train], y[train])\n",
        "\n",
        "      pred = model.predict(X[test])\n",
        "\n",
        "      #output dataframe of predict values\n",
        "      df_pred_temp = pd.DataFrame(list(zip(pred)), index=test, columns=[label+'_y_pred'])\n",
        "      df_pred = pd.concat([df_pred, df_pred_temp])\n",
        "      \n",
        "      #output dataframe of predict probability values\n",
        "      pred_pro = model.predict_proba(X[test])\n",
        "      df_pred_prob_temp = pd.DataFrame(list(zip(pred_pro[:,0])), index=test, columns=[label+'_y_prob_0'])\n",
        "      df_pred_prob = pd.concat([df_pred_prob, df_pred_prob_temp])\n",
        "\n",
        "      acc.append(accuracy_score(y[test], pred))\n",
        "      pre.append(precision_score(y[test], pred))\n",
        "      rec.append(recall_score(y[test], pred))\n",
        "      f1s.append(f1_score(y[test], pred))\n",
        "      auc.append(roc_auc_score(y[test], pred_pro[:,1]))\n",
        "      cf_matrix += (confusion_matrix(y[test], pred))\n",
        "\n",
        "    acc = np.round(np.mean(acc), decimal)\n",
        "    pre = np.round(np.mean(pre), decimal)\n",
        "    rec = np.round(np.mean(rec), decimal)\n",
        "    f1s = np.round(np.mean(f1s), decimal)\n",
        "    auc = np.round(np.mean(auc), decimal)\n",
        "    return (acc, pre, rec, f1s, auc, cf_matrix , df_pred, df_pred_prob)"
      ],
      "execution_count": 5,
      "outputs": []
    },
    {
      "cell_type": "markdown",
      "metadata": {
        "id": "1B_kCVEpmex0",
        "colab_type": "text"
      },
      "source": [
        "Train individual model using cross validation for all datasets (10)"
      ]
    },
    {
      "cell_type": "code",
      "metadata": {
        "id": "2huIw_dmml7V",
        "colab_type": "code",
        "colab": {}
      },
      "source": [
        "def train_each_model_all_dataset(clf, lbl):\n",
        "  cols = ['classifier','accuracy','precision','recall','f1_score', 'roc_auc']\n",
        "  result = pd.DataFrame(columns=cols)\n",
        "  for i in range(10):\n",
        "    #print(i)\n",
        "    df = dataset[str(i)].copy()\n",
        "    df = df.reset_index(drop=True) # reset dataframe index\n",
        "    X = df.iloc[:, :-1]\n",
        "    y = df.iloc[:, -1]\n",
        "    X = scaler.fit_transform(X)\n",
        "    (acc, pre, rec, f1s, auc, cf_matrix , pred, prob) = train_cross_val(clf, lbl , fold, X, y)\n",
        "    result.loc[len(result)] = [lbl, acc,pre, rec, f1s, auc] #add evaluate metrics\n",
        "  return (result, (result.mean()).round(3), (result.std()).round(3), cf_matrix, pred, prob)"
      ],
      "execution_count": 6,
      "outputs": []
    },
    {
      "cell_type": "markdown",
      "metadata": {
        "id": "lDpYg-yKuvL9",
        "colab_type": "text"
      },
      "source": [
        "Train individual model using cross validation for one dataset"
      ]
    },
    {
      "cell_type": "code",
      "metadata": {
        "id": "W03o5xrcuo7R",
        "colab_type": "code",
        "colab": {}
      },
      "source": [
        "def train_a_model_one_dataset(dataset, clf):\n",
        "  df = dataset.copy()\n",
        "  df = df.reset_index(drop=True) # reset dataframe index *Importance*\n",
        "  X = df.iloc[:, :-1]\n",
        "  y = df.iloc[:, -1]\n",
        "  X = scaler.fit_transform(X)\n",
        "  (acc, pre, rec, f1s, auc, cf_matrix , pred, prob) = train_cross_val(clf, lbl , fold, X, y)\n",
        "  return (acc, pre, rec, f1s, auc, cf_matrix , pred, prob)"
      ],
      "execution_count": 7,
      "outputs": []
    },
    {
      "cell_type": "markdown",
      "metadata": {
        "id": "nmJwXV30zorv",
        "colab_type": "text"
      },
      "source": [
        "Train ensemble model using soft-voting"
      ]
    },
    {
      "cell_type": "code",
      "metadata": {
        "id": "HHFtC9sLzmKo",
        "colab_type": "code",
        "colab": {}
      },
      "source": [
        "def ensemble_model_soft_voting(y_label, result_pred_prob ): # df = result_pred_prob\n",
        "  df = result_pred_prob.copy()\n",
        "  y_actual = pd.DataFrame(y_label)\n",
        "  df['mean'] = df.mean(axis = 1)\n",
        "  df.loc[df['mean'] >=0.5, 'predict_class'] = 0\n",
        "  df.loc[df['mean'] <0.5, 'predict_class'] = 1\n",
        "  df = pd.concat([df, y_actual], axis=1)\n",
        "  y_true = list(df.iloc[:,-1])\n",
        "  y_pred = list(df.iloc[:,-2])\n",
        "  acc= accuracy_score(y_true, y_pred)\n",
        "  pre = precision_score(y_true, y_pred)\n",
        "  rec = recall_score(y_true, y_pred)\n",
        "  f1s = f1_score(y_true, y_pred)\n",
        "  auc = roc_auc_score(y_true, list(1-df.iloc[:,-3]))\n",
        "  return (acc, pre, rec, f1s, auc)"
      ],
      "execution_count": null,
      "outputs": []
    },
    {
      "cell_type": "markdown",
      "metadata": {
        "id": "lPc9Y86Jbto3",
        "colab_type": "text"
      },
      "source": [
        "# Preparing Datasets"
      ]
    },
    {
      "cell_type": "markdown",
      "metadata": {
        "id": "rU600QF7b7gw",
        "colab_type": "text"
      },
      "source": [
        "Read full dataset"
      ]
    },
    {
      "cell_type": "code",
      "metadata": {
        "id": "ARIPTLq2bz64",
        "colab_type": "code",
        "colab": {
          "base_uri": "https://localhost:8080/",
          "height": 68
        },
        "outputId": "ee1354b2-0102-48a5-b4a4-b8426ea6c624"
      },
      "source": [
        "file =\"https://raw.githubusercontent.com/nguyennhutlam/sockpuppet_dataset/master/Feature_29_final.csv\"\n",
        "data = pd.read_csv(file)\n",
        "data.type.replace(['Sockpuppet','Legitimate_user'], [0, 1], inplace = True)\n",
        "data = data.drop(columns=['id']) #remove id column\n",
        "data['class'] = data['type']\n",
        "data = data.drop(columns=['type']) #remove type columns\n",
        "#sns.countplot(x='class', data=data)\n",
        "# number of instances in each class\n",
        "data['class'].value_counts()"
      ],
      "execution_count": 10,
      "outputs": [
        {
          "output_type": "execute_result",
          "data": {
            "text/plain": [
              "1    106230\n",
              "0      1668\n",
              "Name: class, dtype: int64"
            ]
          },
          "metadata": {
            "tags": []
          },
          "execution_count": 10
        }
      ]
    },
    {
      "cell_type": "markdown",
      "metadata": {
        "id": "YwofxfGgb_UT",
        "colab_type": "text"
      },
      "source": [
        "Generate 10 Dataset using undersampling for training, store in dictinary\n",
        "*dataset*"
      ]
    },
    {
      "cell_type": "code",
      "metadata": {
        "id": "mh06KRnqb6G4",
        "colab_type": "code",
        "colab": {}
      },
      "source": [
        "import random\n",
        "dataset = {} # dictionary of dataframe\n",
        "for i in range(10):\n",
        "    random.seed(i)\n",
        "    dataset[str(i)] = undersampling(data,1)"
      ],
      "execution_count": 22,
      "outputs": []
    },
    {
      "cell_type": "code",
      "metadata": {
        "id": "zzTy-nmPc5_q",
        "colab_type": "code",
        "colab": {}
      },
      "source": [
        ""
      ],
      "execution_count": null,
      "outputs": []
    },
    {
      "cell_type": "markdown",
      "metadata": {
        "id": "-CnM0iyDc6Y6",
        "colab_type": "text"
      },
      "source": [
        "# Traing"
      ]
    },
    {
      "cell_type": "markdown",
      "metadata": {
        "id": "g4mySMYwdTAS",
        "colab_type": "text"
      },
      "source": [
        "Define the list of model"
      ]
    },
    {
      "cell_type": "code",
      "metadata": {
        "id": "bkDVEjPyc8xP",
        "colab_type": "code",
        "colab": {}
      },
      "source": [
        "model = []\n",
        "model.append(('NB',GaussianNB(var_smoothing=1e-05)))\n",
        "model.append(('kNN', KNeighborsClassifier(n_neighbors=15, weights='distance', algorithm='ball_tree')))\n",
        "model.append(('SVM', SVC(probability=True, C=100, kernel='rbf')))\n",
        "model.append(('RF', RandomForestClassifier(criterion='entropy', max_features=3, n_estimators= 200)))\n",
        "model.append(('Ada', AdaBoostClassifier(RandomForestClassifier(criterion='entropy', max_features=3, n_estimators= 200), learning_rate=0.3, n_estimators=100)))\n",
        "model.append(('XGB', XGBClassifier(colsample_bytree=0.7, gamma=1.5, max_depth=10, min_child_weight=5)))\n",
        "\n",
        "fold = 10"
      ],
      "execution_count": 8,
      "outputs": []
    },
    {
      "cell_type": "markdown",
      "metadata": {
        "id": "FIOvOP8rnJJM",
        "colab_type": "text"
      },
      "source": [
        "Result for each model for all datasets"
      ]
    },
    {
      "cell_type": "markdown",
      "metadata": {
        "id": "cv_fLppFoUz6",
        "colab_type": "text"
      },
      "source": [
        "0 Naive Bayes"
      ]
    },
    {
      "cell_type": "code",
      "metadata": {
        "id": "zrl02F7A5PvN",
        "colab_type": "code",
        "colab": {
          "base_uri": "https://localhost:8080/",
          "height": 187
        },
        "outputId": "fbb917a3-c2f5-475a-e2e3-39a35963533b"
      },
      "source": [
        "# result_all = []\n",
        "# result_prob_all = []\n",
        "# result_pred_all = []\n",
        "\n",
        "cols = ['i','classifier','accuracy','precision','recall','f1_score', 'roc_auc']\n",
        "result = pd.DataFrame(columns=cols)\n",
        "seed(1)\n",
        "for i in range(10): \n",
        "  print(i) \n",
        "  df = dataset[str(i)].copy()\n",
        "  df = df.reset_index(drop=True) # reset dataframe index *Importance*\n",
        "  X = df.iloc[:, :-1]\n",
        "  y = df.iloc[:, -1]\n",
        "  X = scaler.fit_transform(X)\n",
        "  pred_all = pd.DataFrame()\n",
        "  prob_all = pd.DataFrame()\n",
        "  # cols = ['i','classifier','accuracy','precision','recall','f1_score', 'roc_auc']\n",
        "  # result = pd.DataFrame(columns=cols)\n",
        "  for label, clf in model:\n",
        "    (acc, pre, rec, f1s, auc, cf_matrix , pred, prob) = train_cross_val(clf, label ,fold, X, y)\n",
        "    result.loc[len(result)] = [i, label, acc,pre, rec, f1s, auc] #add evaluate metrics\n",
        "    pred_all = pd.concat([pred_all, pred], axis=1)\n",
        "    prob_all = pd.concat([prob_all, prob], axis=1)\n",
        "    #print(label)\n",
        "  # train ensemble model\n",
        "\n",
        "  x1 = prob_all#[en_cols]\n",
        "  data_ensemble = pd.concat([x1, y], axis=1)\n",
        "  df1 = data_ensemble.copy()\n",
        "  X1 = df1.iloc[:, :-1]\n",
        "  y1 = df1.iloc[:, -1]\n",
        "  X1 = scaler.fit_transform(X1)\n",
        "  mlp = MLPClassifier(alpha=1e-05, hidden_layer_sizes=(6,6,6), random_state=1,\n",
        "                )\n",
        "  (acc1, pre1, rec1, f1s1, auc1, cf_matrix1 , pred1, prob1) = train_cross_val(mlp, 'MLP' , fold, X1, y1)\n",
        "  result.loc[len(result)] = [i, 'Ensemble', acc1,pre1, rec1, f1s1, auc1]\n",
        "\n",
        "  # Voting all classifers\n",
        "  (acc, pre, rec, f1s, auc) = ensemble_model_soft_voting(y1, prob_all)\n",
        "  result.loc[len(result)] = [i, 'Voting', acc,pre, rec, f1s, auc]\n",
        "\n",
        "  # Voting top 2 classifers\n",
        "  en_cols = [\n",
        "          #  'NB_y_pred_0',\t\n",
        "          #  'kNN_y_pred_0',\t\n",
        "          #  'SVM_y_pred_0',\n",
        "          # 'RF_y_prob_0',\t\n",
        "           'Ada_y_prob_0',\n",
        "           'XGB_y_prob_0'\n",
        "           ]\n",
        "   \n",
        "  (acc, pre, rec, f1s, auc) = ensemble_model_soft_voting(y1, prob_all[en_cols])\n",
        "  result.loc[len(result)] = [i, 'Voting_Adaboost_XGboost', acc,pre, rec, f1s, auc]\n",
        "\n",
        "\n",
        "  # print(acc1, pre1, rec1, f1s1, auc1)\n",
        "  # result_all.append(result)\n",
        "  # result_pred_all.append(pred_all)\n",
        "  # result_prob_all.append(prob_all)\n"
      ],
      "execution_count": 38,
      "outputs": [
        {
          "output_type": "stream",
          "text": [
            "0\n",
            "1\n",
            "2\n",
            "3\n",
            "4\n",
            "5\n",
            "6\n",
            "7\n",
            "8\n",
            "9\n"
          ],
          "name": "stdout"
        }
      ]
    },
    {
      "cell_type": "code",
      "metadata": {
        "id": "nrv4gMDX8qRt",
        "colab_type": "code",
        "colab": {
          "base_uri": "https://localhost:8080/",
          "height": 328
        },
        "outputId": "70a9c4d8-9f1a-4677-932d-23109c5453bd"
      },
      "source": [
        "result"
      ],
      "execution_count": 36,
      "outputs": [
        {
          "output_type": "execute_result",
          "data": {
            "text/html": [
              "<div>\n",
              "<style scoped>\n",
              "    .dataframe tbody tr th:only-of-type {\n",
              "        vertical-align: middle;\n",
              "    }\n",
              "\n",
              "    .dataframe tbody tr th {\n",
              "        vertical-align: top;\n",
              "    }\n",
              "\n",
              "    .dataframe thead th {\n",
              "        text-align: right;\n",
              "    }\n",
              "</style>\n",
              "<table border=\"1\" class=\"dataframe\">\n",
              "  <thead>\n",
              "    <tr style=\"text-align: right;\">\n",
              "      <th></th>\n",
              "      <th>i</th>\n",
              "      <th>classifier</th>\n",
              "      <th>accuracy</th>\n",
              "      <th>precision</th>\n",
              "      <th>recall</th>\n",
              "      <th>f1_score</th>\n",
              "      <th>roc_auc</th>\n",
              "    </tr>\n",
              "  </thead>\n",
              "  <tbody>\n",
              "    <tr>\n",
              "      <th>0</th>\n",
              "      <td>0</td>\n",
              "      <td>NB</td>\n",
              "      <td>0.646000</td>\n",
              "      <td>0.598000</td>\n",
              "      <td>0.88300</td>\n",
              "      <td>0.713000</td>\n",
              "      <td>0.746000</td>\n",
              "    </tr>\n",
              "    <tr>\n",
              "      <th>1</th>\n",
              "      <td>0</td>\n",
              "      <td>kNN</td>\n",
              "      <td>0.734000</td>\n",
              "      <td>0.729000</td>\n",
              "      <td>0.74300</td>\n",
              "      <td>0.736000</td>\n",
              "      <td>0.806000</td>\n",
              "    </tr>\n",
              "    <tr>\n",
              "      <th>2</th>\n",
              "      <td>0</td>\n",
              "      <td>SVM</td>\n",
              "      <td>0.752000</td>\n",
              "      <td>0.716000</td>\n",
              "      <td>0.83700</td>\n",
              "      <td>0.771000</td>\n",
              "      <td>0.818000</td>\n",
              "    </tr>\n",
              "    <tr>\n",
              "      <th>3</th>\n",
              "      <td>0</td>\n",
              "      <td>RF</td>\n",
              "      <td>0.810000</td>\n",
              "      <td>0.802000</td>\n",
              "      <td>0.82300</td>\n",
              "      <td>0.812000</td>\n",
              "      <td>0.884000</td>\n",
              "    </tr>\n",
              "    <tr>\n",
              "      <th>4</th>\n",
              "      <td>0</td>\n",
              "      <td>Ada</td>\n",
              "      <td>0.808000</td>\n",
              "      <td>0.804000</td>\n",
              "      <td>0.81500</td>\n",
              "      <td>0.809000</td>\n",
              "      <td>0.884000</td>\n",
              "    </tr>\n",
              "    <tr>\n",
              "      <th>5</th>\n",
              "      <td>0</td>\n",
              "      <td>XGB</td>\n",
              "      <td>0.816000</td>\n",
              "      <td>0.805000</td>\n",
              "      <td>0.83400</td>\n",
              "      <td>0.819000</td>\n",
              "      <td>0.894000</td>\n",
              "    </tr>\n",
              "    <tr>\n",
              "      <th>6</th>\n",
              "      <td>0</td>\n",
              "      <td>Ensemble</td>\n",
              "      <td>0.817000</td>\n",
              "      <td>0.804000</td>\n",
              "      <td>0.83900</td>\n",
              "      <td>0.821000</td>\n",
              "      <td>0.890000</td>\n",
              "    </tr>\n",
              "    <tr>\n",
              "      <th>7</th>\n",
              "      <td>0</td>\n",
              "      <td>Voting</td>\n",
              "      <td>0.805755</td>\n",
              "      <td>0.774489</td>\n",
              "      <td>0.86271</td>\n",
              "      <td>0.816222</td>\n",
              "      <td>0.870489</td>\n",
              "    </tr>\n",
              "    <tr>\n",
              "      <th>8</th>\n",
              "      <td>0</td>\n",
              "      <td>Voting_Adaboost_XGboost</td>\n",
              "      <td>0.820144</td>\n",
              "      <td>0.809386</td>\n",
              "      <td>0.83753</td>\n",
              "      <td>0.823217</td>\n",
              "      <td>0.893464</td>\n",
              "    </tr>\n",
              "  </tbody>\n",
              "</table>\n",
              "</div>"
            ],
            "text/plain": [
              "   i               classifier  accuracy  precision   recall  f1_score   roc_auc\n",
              "0  0                       NB  0.646000   0.598000  0.88300  0.713000  0.746000\n",
              "1  0                      kNN  0.734000   0.729000  0.74300  0.736000  0.806000\n",
              "2  0                      SVM  0.752000   0.716000  0.83700  0.771000  0.818000\n",
              "3  0                       RF  0.810000   0.802000  0.82300  0.812000  0.884000\n",
              "4  0                      Ada  0.808000   0.804000  0.81500  0.809000  0.884000\n",
              "5  0                      XGB  0.816000   0.805000  0.83400  0.819000  0.894000\n",
              "6  0                 Ensemble  0.817000   0.804000  0.83900  0.821000  0.890000\n",
              "7  0                   Voting  0.805755   0.774489  0.86271  0.816222  0.870489\n",
              "8  0  Voting_Adaboost_XGboost  0.820144   0.809386  0.83753  0.823217  0.893464"
            ]
          },
          "metadata": {
            "tags": []
          },
          "execution_count": 36
        }
      ]
    },
    {
      "cell_type": "code",
      "metadata": {
        "id": "EC4gsaHiRs9I",
        "colab_type": "code",
        "colab": {
          "base_uri": "https://localhost:8080/",
          "height": 204
        },
        "outputId": "b5fb18ba-fb1f-4a42-8578-d1b255859ef7"
      },
      "source": [
        "print(result.groupby(['classifier']).mean().round(3))"
      ],
      "execution_count": 40,
      "outputs": [
        {
          "output_type": "stream",
          "text": [
            "                         accuracy  precision  recall  f1_score  roc_auc\n",
            "classifier                                                             \n",
            "Ada                         0.811      0.807   0.817     0.811    0.884\n",
            "Ensemble                    0.817      0.804   0.839     0.820    0.891\n",
            "NB                          0.627      0.581   0.920     0.711    0.748\n",
            "RF                          0.812      0.807   0.820     0.813    0.884\n",
            "SVM                         0.757      0.733   0.811     0.769    0.822\n",
            "Voting                      0.806      0.772   0.870     0.818    0.872\n",
            "Voting_Adaboost_XGboost     0.817      0.809   0.830     0.819    0.892\n",
            "XGB                         0.814      0.806   0.828     0.816    0.892\n",
            "kNN                         0.741      0.742   0.742     0.741    0.810\n"
          ],
          "name": "stdout"
        }
      ]
    }
  ]
}