{
  "nbformat": 4,
  "nbformat_minor": 0,
  "metadata": {
    "colab": {
      "name": "1 All model Ensemble Feature5_extratree.ipynb",
      "provenance": [],
      "collapsed_sections": [],
      "authorship_tag": "ABX9TyNaNXwS+tvbD7qejEL5j5jN",
      "include_colab_link": true
    },
    "kernelspec": {
      "name": "python3",
      "display_name": "Python 3"
    }
  },
  "cells": [
    {
      "cell_type": "markdown",
      "metadata": {
        "id": "view-in-github",
        "colab_type": "text"
      },
      "source": [
        "<a href=\"https://colab.research.google.com/github/nguyennhutlam/sockpuppet_final_19_07_2020/blob/master/1_All_model_Ensemble_Feature5_extratree.ipynb\" target=\"_parent\"><img src=\"https://colab.research.google.com/assets/colab-badge.svg\" alt=\"Open In Colab\"/></a>"
      ]
    },
    {
      "cell_type": "markdown",
      "metadata": {
        "id": "Y9MMDZUNYqII",
        "colab_type": "text"
      },
      "source": [
        "Extratrees: 5 Features"
      ]
    },
    {
      "cell_type": "markdown",
      "metadata": {
        "id": "lZJY_sASbAaV",
        "colab_type": "text"
      },
      "source": [
        "# Library"
      ]
    },
    {
      "cell_type": "markdown",
      "metadata": {
        "id": "gCCk9j1HALA8",
        "colab_type": "text"
      },
      "source": [
        "Train all model with feature selection "
      ]
    },
    {
      "cell_type": "code",
      "metadata": {
        "id": "FY0Pu_SPbDfJ",
        "colab_type": "code",
        "colab": {}
      },
      "source": [
        "import pandas as pd\n",
        "import numpy as np\n",
        "import seaborn as sns\n",
        "# ignore warning\n",
        "import warnings\n",
        "warnings.filterwarnings('ignore')\n",
        "# ML library\n",
        "from sklearn.model_selection import train_test_split \n",
        "from sklearn.preprocessing import StandardScaler\n",
        "scaler = StandardScaler()\n",
        "from sklearn.neighbors import KNeighborsClassifier\n",
        "from sklearn.tree import DecisionTreeClassifier\n",
        "from sklearn.ensemble import RandomForestClassifier\n",
        "from sklearn.naive_bayes import GaussianNB\n",
        "from sklearn.neural_network import MLPClassifier\n",
        "from sklearn.svm import SVC\n",
        "from sklearn.linear_model import LogisticRegression\n",
        "from xgboost import XGBClassifier\n",
        "from sklearn.ensemble import AdaBoostClassifier\n",
        "from sklearn.ensemble import GradientBoostingClassifier\n",
        "from sklearn.ensemble import  VotingClassifier\n",
        "from sklearn.model_selection import cross_validate\n",
        "from sklearn.model_selection import  KFold\n",
        "from sklearn.model_selection import RepeatedStratifiedKFold\n",
        "from sklearn.utils import shuffle\n",
        "\n",
        "import statistics\n",
        "\n",
        "from sklearn.metrics import accuracy_score\n",
        "from sklearn.metrics import recall_score\n",
        "from sklearn.metrics import precision_score\n",
        "from sklearn.metrics import f1_score\n",
        "from sklearn.metrics import roc_auc_score\n",
        "from sklearn.metrics import confusion_matrix\n",
        "import random\n",
        "from numpy.random import seed\n",
        "# evaluation metrics\n",
        "scoring = {'accuracy': 'accuracy', 'recall': 'recall', 'precision': 'precision', 'f1':'f1', 'roc_auc': 'roc_auc'}"
      ],
      "execution_count": 17,
      "outputs": []
    },
    {
      "cell_type": "markdown",
      "metadata": {
        "id": "w5NB0T31bQes",
        "colab_type": "text"
      },
      "source": [
        "# Functions"
      ]
    },
    {
      "cell_type": "code",
      "metadata": {
        "id": "zgrexWgzbUWj",
        "colab_type": "code",
        "colab": {}
      },
      "source": [
        "# This function is used for undersampling\n",
        "# paramters: \n",
        "#   data: dataset\n",
        "#   ration: ratio between minority class and mojority class       \n",
        "def undersampling(data, ratio):\n",
        "  B1_class_len = len(data[data['class'] == 0]) #lenght of the minority class (B1: sockpuppet accounts) #163\n",
        "  legitimate_indices = data[data['class'] == 1].index\n",
        "  random_legitimate_indices = np.random.choice(legitimate_indices, B1_class_len * ratio, replace = True)\n",
        "  B1_class_indices = data[data['class'] == 0].index\n",
        "  under_sampe_indices = np.concatenate([B1_class_indices, random_legitimate_indices])\n",
        "  under_sample = data.loc[under_sampe_indices]\n",
        "  return under_sample #return the undersampled dataset"
      ],
      "execution_count": null,
      "outputs": []
    },
    {
      "cell_type": "markdown",
      "metadata": {
        "id": "uJPGuQbEcaYk",
        "colab_type": "text"
      },
      "source": [
        "Training a model using cross validation \\\\\n",
        "model: ML classifier \\\\\n",
        "fold: #fold for cross validate \\\\\n",
        "X, y : training set"
      ]
    },
    {
      "cell_type": "code",
      "metadata": {
        "id": "enm9J_s_btG3",
        "colab_type": "code",
        "colab": {}
      },
      "source": [
        "def train_cross_val(model,label, fold, X, y):\n",
        "    cv = KFold(n_splits=fold, shuffle=True, random_state=1)\n",
        "    decimal = 3\n",
        "    acc = []\n",
        "    pre = []\n",
        "    rec = []\n",
        "    f1s = []\n",
        "    auc = []\n",
        "    df_pred = pd.DataFrame() # dataframe stores the prediction for each sample\n",
        "    df_pred_prob = pd.DataFrame() # dataframe stores the predict probability for each sample\n",
        "    cf_matrix = np.zeros((2,2))\n",
        "    for train, test in (cv.split(X, y)):\n",
        "      model.fit(X[train], y[train])\n",
        "\n",
        "      pred = model.predict(X[test])\n",
        "\n",
        "      #output dataframe of predict values\n",
        "      df_pred_temp = pd.DataFrame(list(zip(pred)), index=test, columns=[label+'_y_pred'])\n",
        "      df_pred = pd.concat([df_pred, df_pred_temp])\n",
        "      \n",
        "      #output dataframe of predict probability values\n",
        "      pred_pro = model.predict_proba(X[test])\n",
        "      df_pred_prob_temp = pd.DataFrame(list(zip(pred_pro[:,0])), index=test, columns=[label+'_y_prob_0'])\n",
        "      df_pred_prob = pd.concat([df_pred_prob, df_pred_prob_temp])\n",
        "\n",
        "      acc.append(accuracy_score(y[test], pred))\n",
        "      pre.append(precision_score(y[test], pred))\n",
        "      rec.append(recall_score(y[test], pred))\n",
        "      f1s.append(f1_score(y[test], pred))\n",
        "      auc.append(roc_auc_score(y[test], pred_pro[:,1]))\n",
        "      cf_matrix += (confusion_matrix(y[test], pred))\n",
        "\n",
        "    acc = np.round(np.mean(acc), decimal)\n",
        "    pre = np.round(np.mean(pre), decimal)\n",
        "    rec = np.round(np.mean(rec), decimal)\n",
        "    f1s = np.round(np.mean(f1s), decimal)\n",
        "    auc = np.round(np.mean(auc), decimal)\n",
        "    return (acc, pre, rec, f1s, auc, cf_matrix , df_pred, df_pred_prob)"
      ],
      "execution_count": 18,
      "outputs": []
    },
    {
      "cell_type": "markdown",
      "metadata": {
        "id": "1B_kCVEpmex0",
        "colab_type": "text"
      },
      "source": [
        "Train individual model using cross validation for all datasets (10)"
      ]
    },
    {
      "cell_type": "code",
      "metadata": {
        "id": "2huIw_dmml7V",
        "colab_type": "code",
        "colab": {}
      },
      "source": [
        "def train_each_model_all_dataset(clf, lbl):\n",
        "  cols = ['classifier','accuracy','precision','recall','f1_score', 'roc_auc']\n",
        "  result = pd.DataFrame(columns=cols)\n",
        "  for i in range(10):\n",
        "    #print(i)\n",
        "    df = dataset[str(i)].copy()\n",
        "    df = df.reset_index(drop=True) # reset dataframe index\n",
        "    X = df.iloc[:, :-1]\n",
        "    y = df.iloc[:, -1]\n",
        "    X = scaler.fit_transform(X)\n",
        "    (acc, pre, rec, f1s, auc, cf_matrix , pred, prob) = train_cross_val(clf, lbl , fold, X, y)\n",
        "    result.loc[len(result)] = [lbl, acc,pre, rec, f1s, auc] #add evaluate metrics\n",
        "  return (result, (result.mean()).round(3), (result.std()).round(3), cf_matrix, pred, prob)"
      ],
      "execution_count": 19,
      "outputs": []
    },
    {
      "cell_type": "markdown",
      "metadata": {
        "id": "lDpYg-yKuvL9",
        "colab_type": "text"
      },
      "source": [
        "Train individual model using cross validation for one dataset"
      ]
    },
    {
      "cell_type": "code",
      "metadata": {
        "id": "W03o5xrcuo7R",
        "colab_type": "code",
        "colab": {}
      },
      "source": [
        "def train_a_model_one_dataset(dataset, clf):\n",
        "  df = dataset.copy()\n",
        "  df = df.reset_index(drop=True) # reset dataframe index *Importance*\n",
        "  X = df.iloc[:, :-1]\n",
        "  y = df.iloc[:, -1]\n",
        "  X = scaler.fit_transform(X)\n",
        "  (acc, pre, rec, f1s, auc, cf_matrix , pred, prob) = train_cross_val(clf, lbl , fold, X, y)\n",
        "  return (acc, pre, rec, f1s, auc, cf_matrix , pred, prob)"
      ],
      "execution_count": 20,
      "outputs": []
    },
    {
      "cell_type": "markdown",
      "metadata": {
        "id": "nmJwXV30zorv",
        "colab_type": "text"
      },
      "source": [
        "Train ensemble model using soft-voting"
      ]
    },
    {
      "cell_type": "code",
      "metadata": {
        "id": "HHFtC9sLzmKo",
        "colab_type": "code",
        "colab": {}
      },
      "source": [
        "def ensemble_model_soft_voting(y_label, result_pred_prob ): # df = result_pred_prob\n",
        "  df = result_pred_prob.copy()\n",
        "  y_actual = pd.DataFrame(y_label)\n",
        "  df['mean'] = df.mean(axis = 1)\n",
        "  df.loc[df['mean'] >=0.5, 'predict_class'] = 0\n",
        "  df.loc[df['mean'] <0.5, 'predict_class'] = 1\n",
        "  df = pd.concat([df, y_actual], axis=1)\n",
        "  y_true = list(df.iloc[:,-1])\n",
        "  y_pred = list(df.iloc[:,-2])\n",
        "  acc= accuracy_score(y_true, y_pred)\n",
        "  pre = precision_score(y_true, y_pred)\n",
        "  rec = recall_score(y_true, y_pred)\n",
        "  f1s = f1_score(y_true, y_pred)\n",
        "  auc = roc_auc_score(y_true, list(1-df.iloc[:,-3]))\n",
        "  return (acc, pre, rec, f1s, auc)"
      ],
      "execution_count": 21,
      "outputs": []
    },
    {
      "cell_type": "markdown",
      "metadata": {
        "id": "lPc9Y86Jbto3",
        "colab_type": "text"
      },
      "source": [
        "# Preparing Datasets"
      ]
    },
    {
      "cell_type": "markdown",
      "metadata": {
        "id": "rU600QF7b7gw",
        "colab_type": "text"
      },
      "source": [
        "Read full dataset"
      ]
    },
    {
      "cell_type": "code",
      "metadata": {
        "id": "ARIPTLq2bz64",
        "colab_type": "code",
        "colab": {
          "base_uri": "https://localhost:8080/",
          "height": 68
        },
        "outputId": "2e74a53c-2720-41d1-b1f2-1d1e300e7149"
      },
      "source": [
        "file =\"https://raw.githubusercontent.com/nguyennhutlam/sockpuppet_dataset/master/Feature_29_final.csv\"\n",
        "data = pd.read_csv(file)\n",
        "data.type.replace(['Sockpuppet','Legitimate_user'], [0, 1], inplace = True)\n",
        "data = data.drop(columns=['id']) #remove id column\n",
        "data['class'] = data['type']\n",
        "data = data.drop(columns=['type']) #remove type columns\n",
        "#sns.countplot(x='class', data=data)\n",
        "# number of instances in each class\n",
        "data['class'].value_counts()"
      ],
      "execution_count": 24,
      "outputs": [
        {
          "output_type": "execute_result",
          "data": {
            "text/plain": [
              "1    106230\n",
              "0      1668\n",
              "Name: class, dtype: int64"
            ]
          },
          "metadata": {
            "tags": []
          },
          "execution_count": 24
        }
      ]
    },
    {
      "cell_type": "code",
      "metadata": {
        "id": "iAweLrQnAgum",
        "colab_type": "code",
        "colab": {}
      },
      "source": [
        "top_extratrees =['median_push_interval',\n",
        "                  'reponse_time_mean',\n",
        "                  'hubs',\n",
        "                  'received_rating_ratio',\n",
        "                  'received_rating_push',\n",
        "                  'class']\n",
        "\n",
        "data = data[top_extratrees]\n",
        "data"
      ],
      "execution_count": null,
      "outputs": []
    },
    {
      "cell_type": "markdown",
      "metadata": {
        "id": "YwofxfGgb_UT",
        "colab_type": "text"
      },
      "source": [
        "Generate 10 Dataset using undersampling for training, store in dictinary\n",
        "*dataset*"
      ]
    },
    {
      "cell_type": "code",
      "metadata": {
        "id": "mh06KRnqb6G4",
        "colab_type": "code",
        "colab": {}
      },
      "source": [
        "import random\n",
        "dataset = {} # dictionary of dataframe\n",
        "for i in range(10):\n",
        "    random.seed(i)\n",
        "    dataset[str(i)] = undersampling(data,1)"
      ],
      "execution_count": 26,
      "outputs": []
    },
    {
      "cell_type": "code",
      "metadata": {
        "id": "zzTy-nmPc5_q",
        "colab_type": "code",
        "colab": {}
      },
      "source": [
        ""
      ],
      "execution_count": null,
      "outputs": []
    },
    {
      "cell_type": "markdown",
      "metadata": {
        "id": "-CnM0iyDc6Y6",
        "colab_type": "text"
      },
      "source": [
        "# Traing"
      ]
    },
    {
      "cell_type": "markdown",
      "metadata": {
        "id": "g4mySMYwdTAS",
        "colab_type": "text"
      },
      "source": [
        "Define the list of model"
      ]
    },
    {
      "cell_type": "code",
      "metadata": {
        "id": "bkDVEjPyc8xP",
        "colab_type": "code",
        "colab": {}
      },
      "source": [
        "model = []\n",
        "model.append(('NB',GaussianNB(var_smoothing=1e-05)))\n",
        "model.append(('kNN', KNeighborsClassifier(n_neighbors=15, weights='distance', algorithm='ball_tree')))\n",
        "model.append(('SVM', SVC(probability=True, C=100, kernel='rbf')))\n",
        "model.append(('RF', RandomForestClassifier(criterion='entropy', max_features=3, n_estimators= 200)))\n",
        "model.append(('Ada', AdaBoostClassifier(RandomForestClassifier(criterion='entropy', max_features=3, n_estimators= 50), learning_rate=0.3, n_estimators=100)))\n",
        "model.append(('XGB', XGBClassifier(colsample_bytree=0.7, gamma=1.5, max_depth=10, min_child_weight=5)))\n",
        "\n",
        "fold = 10"
      ],
      "execution_count": 27,
      "outputs": []
    },
    {
      "cell_type": "markdown",
      "metadata": {
        "id": "FIOvOP8rnJJM",
        "colab_type": "text"
      },
      "source": [
        "Result for each model for all datasets"
      ]
    },
    {
      "cell_type": "markdown",
      "metadata": {
        "id": "cv_fLppFoUz6",
        "colab_type": "text"
      },
      "source": [
        "0 Naive Bayes"
      ]
    },
    {
      "cell_type": "code",
      "metadata": {
        "id": "zrl02F7A5PvN",
        "colab_type": "code",
        "colab": {}
      },
      "source": [
        "# result_all = []\n",
        "# result_prob_all = []\n",
        "# result_pred_all = []\n",
        "\n",
        "cols = ['i','classifier','accuracy','precision','recall','f1_score', 'roc_auc']\n",
        "result = pd.DataFrame(columns=cols)\n",
        "seed(1)\n",
        "for i in range(10): \n",
        "  print(i) \n",
        "  df = dataset[str(i)].copy()\n",
        "  df = df.reset_index(drop=True) # reset dataframe index *Importance*\n",
        "  X = df.iloc[:, :-1]\n",
        "  y = df.iloc[:, -1]\n",
        "  X = scaler.fit_transform(X)\n",
        "  pred_all = pd.DataFrame()\n",
        "  prob_all = pd.DataFrame()\n",
        "  # cols = ['i','classifier','accuracy','precision','recall','f1_score', 'roc_auc']\n",
        "  # result = pd.DataFrame(columns=cols)\n",
        "  for label, clf in model:\n",
        "    (acc, pre, rec, f1s, auc, cf_matrix , pred, prob) = train_cross_val(clf, label ,fold, X, y)\n",
        "    result.loc[len(result)] = [i, label, acc,pre, rec, f1s, auc] #add evaluate metrics\n",
        "    pred_all = pd.concat([pred_all, pred], axis=1)\n",
        "    prob_all = pd.concat([prob_all, prob], axis=1)\n",
        "    print(label)\n",
        "  # train ensemble model\n",
        "\n",
        "  x1 = prob_all#[en_cols]\n",
        "  data_ensemble = pd.concat([x1, y], axis=1)\n",
        "  df1 = data_ensemble.copy()\n",
        "  X1 = df1.iloc[:, :-1]\n",
        "  y1 = df1.iloc[:, -1]\n",
        "  X1 = scaler.fit_transform(X1)\n",
        "  mlp = MLPClassifier(alpha=1e-05, hidden_layer_sizes=(6,6,6), random_state=1,\n",
        "                )\n",
        "  (acc1, pre1, rec1, f1s1, auc1, cf_matrix1 , pred1, prob1) = train_cross_val(mlp, 'MLP' , fold, X1, y1)\n",
        "  result.loc[len(result)] = [i, 'Ensemble', acc1,pre1, rec1, f1s1, auc1]\n",
        "\n",
        "  # Voting all classifers\n",
        "  (acc, pre, rec, f1s, auc) = ensemble_model_soft_voting(y1, prob_all)\n",
        "  result.loc[len(result)] = [i, 'Voting', acc,pre, rec, f1s, auc]\n",
        "\n",
        "  # Voting top 2 classifers\n",
        "  en_cols = [\n",
        "          #  'NB_y_pred_0',\t\n",
        "          #  'kNN_y_pred_0',\t\n",
        "          #  'SVM_y_pred_0',\n",
        "          # 'RF_y_prob_0',\t\n",
        "           'Ada_y_prob_0',\n",
        "           'XGB_y_prob_0'\n",
        "           ]\n",
        "   \n",
        "  (acc, pre, rec, f1s, auc) = ensemble_model_soft_voting(y1, prob_all[en_cols])\n",
        "  result.loc[len(result)] = [i, 'Voting_Adaboost_XGboost', acc,pre, rec, f1s, auc]\n",
        "\n",
        "\n",
        "  # print(acc1, pre1, rec1, f1s1, auc1)\n",
        "  # result_all.append(result)\n",
        "  # result_pred_all.append(pred_all)\n",
        "  # result_prob_all.append(prob_all)\n",
        "\n",
        "print(result.groupby(['classifier']).mean().round(3))"
      ],
      "execution_count": null,
      "outputs": []
    },
    {
      "cell_type": "markdown",
      "metadata": {
        "id": "IL-_G3GiAHL6",
        "colab_type": "text"
      },
      "source": [
        ""
      ]
    },
    {
      "cell_type": "code",
      "metadata": {
        "id": "EC4gsaHiRs9I",
        "colab_type": "code",
        "colab": {
          "base_uri": "https://localhost:8080/",
          "height": 204
        },
        "outputId": "cba2ed3f-1f5d-44be-e51b-84ade7f531d7"
      },
      "source": [
        "print(result.groupby(['classifier']).mean().round(3))"
      ],
      "execution_count": 29,
      "outputs": [
        {
          "output_type": "stream",
          "text": [
            "                         accuracy  precision  recall  f1_score  roc_auc\n",
            "classifier                                                             \n",
            "Ada                         0.766      0.762   0.775     0.768    0.847\n",
            "Ensemble                    0.774      0.760   0.801     0.779    0.851\n",
            "NB                          0.553      0.795   0.153     0.245    0.685\n",
            "RF                          0.769      0.762   0.782     0.771    0.847\n",
            "SVM                         0.734      0.748   0.706     0.725    0.807\n",
            "Voting                      0.764      0.794   0.712     0.751    0.846\n",
            "Voting_Adaboost_XGboost     0.769      0.761   0.784     0.772    0.850\n",
            "XGB                         0.765      0.758   0.780     0.768    0.846\n",
            "kNN                         0.699      0.705   0.684     0.694    0.769\n"
          ],
          "name": "stdout"
        }
      ]
    },
    {
      "cell_type": "code",
      "metadata": {
        "id": "YUirMb7ZMaf_",
        "colab_type": "code",
        "colab": {
          "base_uri": "https://localhost:8080/",
          "height": 359
        },
        "outputId": "d36d83ca-3d0d-48fa-d2ad-cdc151c34221"
      },
      "source": [
        "(result.groupby(['classifier']).mean().round(3))"
      ],
      "execution_count": 30,
      "outputs": [
        {
          "output_type": "execute_result",
          "data": {
            "text/html": [
              "<div>\n",
              "<style scoped>\n",
              "    .dataframe tbody tr th:only-of-type {\n",
              "        vertical-align: middle;\n",
              "    }\n",
              "\n",
              "    .dataframe tbody tr th {\n",
              "        vertical-align: top;\n",
              "    }\n",
              "\n",
              "    .dataframe thead th {\n",
              "        text-align: right;\n",
              "    }\n",
              "</style>\n",
              "<table border=\"1\" class=\"dataframe\">\n",
              "  <thead>\n",
              "    <tr style=\"text-align: right;\">\n",
              "      <th></th>\n",
              "      <th>accuracy</th>\n",
              "      <th>precision</th>\n",
              "      <th>recall</th>\n",
              "      <th>f1_score</th>\n",
              "      <th>roc_auc</th>\n",
              "    </tr>\n",
              "    <tr>\n",
              "      <th>classifier</th>\n",
              "      <th></th>\n",
              "      <th></th>\n",
              "      <th></th>\n",
              "      <th></th>\n",
              "      <th></th>\n",
              "    </tr>\n",
              "  </thead>\n",
              "  <tbody>\n",
              "    <tr>\n",
              "      <th>Ada</th>\n",
              "      <td>0.766</td>\n",
              "      <td>0.762</td>\n",
              "      <td>0.775</td>\n",
              "      <td>0.768</td>\n",
              "      <td>0.847</td>\n",
              "    </tr>\n",
              "    <tr>\n",
              "      <th>Ensemble</th>\n",
              "      <td>0.774</td>\n",
              "      <td>0.760</td>\n",
              "      <td>0.801</td>\n",
              "      <td>0.779</td>\n",
              "      <td>0.851</td>\n",
              "    </tr>\n",
              "    <tr>\n",
              "      <th>NB</th>\n",
              "      <td>0.553</td>\n",
              "      <td>0.795</td>\n",
              "      <td>0.153</td>\n",
              "      <td>0.245</td>\n",
              "      <td>0.685</td>\n",
              "    </tr>\n",
              "    <tr>\n",
              "      <th>RF</th>\n",
              "      <td>0.769</td>\n",
              "      <td>0.762</td>\n",
              "      <td>0.782</td>\n",
              "      <td>0.771</td>\n",
              "      <td>0.847</td>\n",
              "    </tr>\n",
              "    <tr>\n",
              "      <th>SVM</th>\n",
              "      <td>0.734</td>\n",
              "      <td>0.748</td>\n",
              "      <td>0.706</td>\n",
              "      <td>0.725</td>\n",
              "      <td>0.807</td>\n",
              "    </tr>\n",
              "    <tr>\n",
              "      <th>Voting</th>\n",
              "      <td>0.764</td>\n",
              "      <td>0.794</td>\n",
              "      <td>0.712</td>\n",
              "      <td>0.751</td>\n",
              "      <td>0.846</td>\n",
              "    </tr>\n",
              "    <tr>\n",
              "      <th>Voting_Adaboost_XGboost</th>\n",
              "      <td>0.769</td>\n",
              "      <td>0.761</td>\n",
              "      <td>0.784</td>\n",
              "      <td>0.772</td>\n",
              "      <td>0.850</td>\n",
              "    </tr>\n",
              "    <tr>\n",
              "      <th>XGB</th>\n",
              "      <td>0.765</td>\n",
              "      <td>0.758</td>\n",
              "      <td>0.780</td>\n",
              "      <td>0.768</td>\n",
              "      <td>0.846</td>\n",
              "    </tr>\n",
              "    <tr>\n",
              "      <th>kNN</th>\n",
              "      <td>0.699</td>\n",
              "      <td>0.705</td>\n",
              "      <td>0.684</td>\n",
              "      <td>0.694</td>\n",
              "      <td>0.769</td>\n",
              "    </tr>\n",
              "  </tbody>\n",
              "</table>\n",
              "</div>"
            ],
            "text/plain": [
              "                         accuracy  precision  recall  f1_score  roc_auc\n",
              "classifier                                                             \n",
              "Ada                         0.766      0.762   0.775     0.768    0.847\n",
              "Ensemble                    0.774      0.760   0.801     0.779    0.851\n",
              "NB                          0.553      0.795   0.153     0.245    0.685\n",
              "RF                          0.769      0.762   0.782     0.771    0.847\n",
              "SVM                         0.734      0.748   0.706     0.725    0.807\n",
              "Voting                      0.764      0.794   0.712     0.751    0.846\n",
              "Voting_Adaboost_XGboost     0.769      0.761   0.784     0.772    0.850\n",
              "XGB                         0.765      0.758   0.780     0.768    0.846\n",
              "kNN                         0.699      0.705   0.684     0.694    0.769"
            ]
          },
          "metadata": {
            "tags": []
          },
          "execution_count": 30
        }
      ]
    },
    {
      "cell_type": "code",
      "metadata": {
        "id": "ARxBLqDYKz_R",
        "colab_type": "code",
        "colab": {
          "base_uri": "https://localhost:8080/",
          "height": 204
        },
        "outputId": "8c3322dd-5e40-41a4-e284-b08326b77b66"
      },
      "source": [
        "print(result.groupby(['classifier']).std().round(3))"
      ],
      "execution_count": 31,
      "outputs": [
        {
          "output_type": "stream",
          "text": [
            "                         accuracy  precision  recall  f1_score  roc_auc\n",
            "classifier                                                             \n",
            "Ada                         0.006      0.007   0.006     0.005    0.005\n",
            "Ensemble                    0.006      0.010   0.013     0.006    0.005\n",
            "NB                          0.007      0.025   0.034     0.031    0.009\n",
            "RF                          0.005      0.006   0.005     0.005    0.005\n",
            "SVM                         0.006      0.011   0.023     0.009    0.005\n",
            "Voting                      0.006      0.007   0.014     0.008    0.005\n",
            "Voting_Adaboost_XGboost     0.006      0.006   0.006     0.005    0.005\n",
            "XGB                         0.006      0.006   0.005     0.005    0.006\n",
            "kNN                         0.008      0.008   0.013     0.009    0.009\n"
          ],
          "name": "stdout"
        }
      ]
    },
    {
      "cell_type": "code",
      "metadata": {
        "id": "gpT4PeqfMdyX",
        "colab_type": "code",
        "colab": {
          "base_uri": "https://localhost:8080/",
          "height": 359
        },
        "outputId": "a1129f02-96be-495f-888e-1eb0d845443b"
      },
      "source": [
        "(result.groupby(['classifier']).std().round(3))"
      ],
      "execution_count": 32,
      "outputs": [
        {
          "output_type": "execute_result",
          "data": {
            "text/html": [
              "<div>\n",
              "<style scoped>\n",
              "    .dataframe tbody tr th:only-of-type {\n",
              "        vertical-align: middle;\n",
              "    }\n",
              "\n",
              "    .dataframe tbody tr th {\n",
              "        vertical-align: top;\n",
              "    }\n",
              "\n",
              "    .dataframe thead th {\n",
              "        text-align: right;\n",
              "    }\n",
              "</style>\n",
              "<table border=\"1\" class=\"dataframe\">\n",
              "  <thead>\n",
              "    <tr style=\"text-align: right;\">\n",
              "      <th></th>\n",
              "      <th>accuracy</th>\n",
              "      <th>precision</th>\n",
              "      <th>recall</th>\n",
              "      <th>f1_score</th>\n",
              "      <th>roc_auc</th>\n",
              "    </tr>\n",
              "    <tr>\n",
              "      <th>classifier</th>\n",
              "      <th></th>\n",
              "      <th></th>\n",
              "      <th></th>\n",
              "      <th></th>\n",
              "      <th></th>\n",
              "    </tr>\n",
              "  </thead>\n",
              "  <tbody>\n",
              "    <tr>\n",
              "      <th>Ada</th>\n",
              "      <td>0.006</td>\n",
              "      <td>0.007</td>\n",
              "      <td>0.006</td>\n",
              "      <td>0.005</td>\n",
              "      <td>0.005</td>\n",
              "    </tr>\n",
              "    <tr>\n",
              "      <th>Ensemble</th>\n",
              "      <td>0.006</td>\n",
              "      <td>0.010</td>\n",
              "      <td>0.013</td>\n",
              "      <td>0.006</td>\n",
              "      <td>0.005</td>\n",
              "    </tr>\n",
              "    <tr>\n",
              "      <th>NB</th>\n",
              "      <td>0.007</td>\n",
              "      <td>0.025</td>\n",
              "      <td>0.034</td>\n",
              "      <td>0.031</td>\n",
              "      <td>0.009</td>\n",
              "    </tr>\n",
              "    <tr>\n",
              "      <th>RF</th>\n",
              "      <td>0.005</td>\n",
              "      <td>0.006</td>\n",
              "      <td>0.005</td>\n",
              "      <td>0.005</td>\n",
              "      <td>0.005</td>\n",
              "    </tr>\n",
              "    <tr>\n",
              "      <th>SVM</th>\n",
              "      <td>0.006</td>\n",
              "      <td>0.011</td>\n",
              "      <td>0.023</td>\n",
              "      <td>0.009</td>\n",
              "      <td>0.005</td>\n",
              "    </tr>\n",
              "    <tr>\n",
              "      <th>Voting</th>\n",
              "      <td>0.006</td>\n",
              "      <td>0.007</td>\n",
              "      <td>0.014</td>\n",
              "      <td>0.008</td>\n",
              "      <td>0.005</td>\n",
              "    </tr>\n",
              "    <tr>\n",
              "      <th>Voting_Adaboost_XGboost</th>\n",
              "      <td>0.006</td>\n",
              "      <td>0.006</td>\n",
              "      <td>0.006</td>\n",
              "      <td>0.005</td>\n",
              "      <td>0.005</td>\n",
              "    </tr>\n",
              "    <tr>\n",
              "      <th>XGB</th>\n",
              "      <td>0.006</td>\n",
              "      <td>0.006</td>\n",
              "      <td>0.005</td>\n",
              "      <td>0.005</td>\n",
              "      <td>0.006</td>\n",
              "    </tr>\n",
              "    <tr>\n",
              "      <th>kNN</th>\n",
              "      <td>0.008</td>\n",
              "      <td>0.008</td>\n",
              "      <td>0.013</td>\n",
              "      <td>0.009</td>\n",
              "      <td>0.009</td>\n",
              "    </tr>\n",
              "  </tbody>\n",
              "</table>\n",
              "</div>"
            ],
            "text/plain": [
              "                         accuracy  precision  recall  f1_score  roc_auc\n",
              "classifier                                                             \n",
              "Ada                         0.006      0.007   0.006     0.005    0.005\n",
              "Ensemble                    0.006      0.010   0.013     0.006    0.005\n",
              "NB                          0.007      0.025   0.034     0.031    0.009\n",
              "RF                          0.005      0.006   0.005     0.005    0.005\n",
              "SVM                         0.006      0.011   0.023     0.009    0.005\n",
              "Voting                      0.006      0.007   0.014     0.008    0.005\n",
              "Voting_Adaboost_XGboost     0.006      0.006   0.006     0.005    0.005\n",
              "XGB                         0.006      0.006   0.005     0.005    0.006\n",
              "kNN                         0.008      0.008   0.013     0.009    0.009"
            ]
          },
          "metadata": {
            "tags": []
          },
          "execution_count": 32
        }
      ]
    },
    {
      "cell_type": "code",
      "metadata": {
        "id": "OORcrZ9uMY0p",
        "colab_type": "code",
        "colab": {}
      },
      "source": [
        ""
      ],
      "execution_count": null,
      "outputs": []
    }
  ]
}