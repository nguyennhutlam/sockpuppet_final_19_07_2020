{
  "nbformat": 4,
  "nbformat_minor": 0,
  "metadata": {
    "colab": {
      "name": "2020_07_19_Model_Training_Using_Hyperparameter_Turning_using_top_5Features.ipynb",
      "provenance": [],
      "collapsed_sections": [],
      "authorship_tag": "ABX9TyNnrHs0jrPP3Tj/FziBQeTJ",
      "include_colab_link": true
    },
    "kernelspec": {
      "name": "python3",
      "display_name": "Python 3"
    }
  },
  "cells": [
    {
      "cell_type": "markdown",
      "metadata": {
        "id": "view-in-github",
        "colab_type": "text"
      },
      "source": [
        "<a href=\"https://colab.research.google.com/github/nguyennhutlam/sockpuppet_final_19_07_2020/blob/master/2020_07_19_Model_Training_Using_Hyperparameter_Turning_using_top_5Features.ipynb\" target=\"_parent\"><img src=\"https://colab.research.google.com/assets/colab-badge.svg\" alt=\"Open In Colab\"/></a>"
      ]
    },
    {
      "cell_type": "markdown",
      "metadata": {
        "id": "lZJY_sASbAaV",
        "colab_type": "text"
      },
      "source": [
        "# Library"
      ]
    },
    {
      "cell_type": "code",
      "metadata": {
        "id": "FY0Pu_SPbDfJ",
        "colab_type": "code",
        "colab": {}
      },
      "source": [
        "import pandas as pd\n",
        "import numpy as np\n",
        "import seaborn as sns\n",
        "# ignore warning\n",
        "import warnings\n",
        "warnings.filterwarnings('ignore')\n",
        "# ML library\n",
        "from sklearn.model_selection import train_test_split \n",
        "from sklearn.preprocessing import StandardScaler\n",
        "scaler = StandardScaler()\n",
        "from sklearn.neighbors import KNeighborsClassifier\n",
        "from sklearn.tree import DecisionTreeClassifier\n",
        "from sklearn.ensemble import RandomForestClassifier\n",
        "from sklearn.naive_bayes import GaussianNB\n",
        "from sklearn.neural_network import MLPClassifier\n",
        "from sklearn.svm import SVC\n",
        "from sklearn.linear_model import LogisticRegression\n",
        "from xgboost import XGBClassifier\n",
        "from sklearn.ensemble import AdaBoostClassifier\n",
        "from sklearn.ensemble import GradientBoostingClassifier\n",
        "from sklearn.ensemble import  VotingClassifier\n",
        "from sklearn.model_selection import cross_validate\n",
        "from sklearn.model_selection import  KFold\n",
        "from sklearn.model_selection import RepeatedStratifiedKFold\n",
        "from sklearn.utils import shuffle\n",
        "\n",
        "import statistics\n",
        "\n",
        "from sklearn.metrics import accuracy_score\n",
        "from sklearn.metrics import recall_score\n",
        "from sklearn.metrics import precision_score\n",
        "from sklearn.metrics import f1_score\n",
        "from sklearn.metrics import roc_auc_score\n",
        "from sklearn.metrics import confusion_matrix\n",
        "import random\n",
        "from numpy.random import seed\n",
        "# evaluation metrics\n",
        "scoring = {'accuracy': 'accuracy', 'recall': 'recall', 'precision': 'precision', 'f1':'f1', 'roc_auc': 'roc_auc'}"
      ],
      "execution_count": 44,
      "outputs": []
    },
    {
      "cell_type": "markdown",
      "metadata": {
        "id": "w5NB0T31bQes",
        "colab_type": "text"
      },
      "source": [
        "# Functions"
      ]
    },
    {
      "cell_type": "code",
      "metadata": {
        "id": "zgrexWgzbUWj",
        "colab_type": "code",
        "colab": {}
      },
      "source": [
        "# This function is used for undersampling\n",
        "# paramters: \n",
        "#   data: dataset\n",
        "#   ration: ratio between minority class and mojority class       \n",
        "def undersampling(data, ratio):\n",
        "  B1_class_len = len(data[data['class'] == 0]) #lenght of the minority class (B1: sockpuppet accounts) #163\n",
        "  legitimate_indices = data[data['class'] == 1].index\n",
        "  random_legitimate_indices = np.random.choice(legitimate_indices, B1_class_len * ratio, replace = True)\n",
        "  B1_class_indices = data[data['class'] == 0].index\n",
        "  under_sampe_indices = np.concatenate([B1_class_indices, random_legitimate_indices])\n",
        "  under_sample = data.loc[under_sampe_indices]\n",
        "  return under_sample #return the undersampled dataset"
      ],
      "execution_count": 45,
      "outputs": []
    },
    {
      "cell_type": "markdown",
      "metadata": {
        "id": "uJPGuQbEcaYk",
        "colab_type": "text"
      },
      "source": [
        "Training a model using cross validation \\\\\n",
        "model: ML classifier \\\\\n",
        "fold: #fold for cross validate \\\\\n",
        "X, y : training set"
      ]
    },
    {
      "cell_type": "code",
      "metadata": {
        "id": "enm9J_s_btG3",
        "colab_type": "code",
        "colab": {}
      },
      "source": [
        "def train_cross_val(model,label, fold, X, y):\n",
        "    cv = KFold(n_splits=fold, shuffle=True, random_state=1)\n",
        "    decimal = 3\n",
        "    acc = []\n",
        "    pre = []\n",
        "    rec = []\n",
        "    f1s = []\n",
        "    auc = []\n",
        "    df_pred = pd.DataFrame() # dataframe stores the prediction for each sample\n",
        "    df_pred_prob = pd.DataFrame() # dataframe stores the predict probability for each sample\n",
        "    cf_matrix = np.zeros((2,2))\n",
        "    for train, test in (cv.split(X, y)):\n",
        "      model.fit(X[train], y[train])\n",
        "\n",
        "      pred = model.predict(X[test])\n",
        "\n",
        "      #output dataframe of predict values\n",
        "      df_pred_temp = pd.DataFrame(list(zip(pred)), index=test, columns=[label+'_y_pred'])\n",
        "      df_pred = pd.concat([df_pred, df_pred_temp])\n",
        "      \n",
        "      #output dataframe of predict probability values\n",
        "      pred_pro = model.predict_proba(X[test])\n",
        "      df_pred_prob_temp = pd.DataFrame(list(zip(pred_pro[:,0])), index=test, columns=[label+'_y_pred_0'])\n",
        "      df_pred_prob = pd.concat([df_pred_prob, df_pred_prob_temp])\n",
        "\n",
        "      acc.append(accuracy_score(y[test], pred))\n",
        "      pre.append(precision_score(y[test], pred))\n",
        "      rec.append(recall_score(y[test], pred))\n",
        "      f1s.append(f1_score(y[test], pred))\n",
        "      auc.append(roc_auc_score(y[test], pred_pro[:,1]))\n",
        "      cf_matrix += (confusion_matrix(y[test], pred))\n",
        "\n",
        "    acc = np.round(np.mean(acc), decimal)\n",
        "    pre = np.round(np.mean(pre), decimal)\n",
        "    rec = np.round(np.mean(rec), decimal)\n",
        "    f1s = np.round(np.mean(f1s), decimal)\n",
        "    auc = np.round(np.mean(auc), decimal)\n",
        "    return (acc, pre, rec, f1s, auc, cf_matrix , df_pred, df_pred_prob)"
      ],
      "execution_count": 46,
      "outputs": []
    },
    {
      "cell_type": "markdown",
      "metadata": {
        "id": "1B_kCVEpmex0",
        "colab_type": "text"
      },
      "source": [
        "Train individual model using cross validation for all datasets (10)"
      ]
    },
    {
      "cell_type": "code",
      "metadata": {
        "id": "2huIw_dmml7V",
        "colab_type": "code",
        "colab": {}
      },
      "source": [
        "def train_each_model_all_dataset(clf, lbl):\n",
        "  cols = ['classifier','accuracy','precision','recall','f1_score', 'roc_auc']\n",
        "  result = pd.DataFrame(columns=cols)\n",
        "  for i in range(10):\n",
        "    print(i)\n",
        "    df = dataset[str(i)].copy()\n",
        "    df = df.reset_index(drop=True) # reset dataframe index\n",
        "    X = df.iloc[:, :-1]\n",
        "    y = df.iloc[:, -1]\n",
        "    X = scaler.fit_transform(X)\n",
        "    (acc, pre, rec, f1s, auc, cf_matrix , pred, prob) = train_cross_val(clf, lbl , fold, X, y)\n",
        "    result.loc[len(result)] = [lbl, acc,pre, rec, f1s, auc] #add evaluate metrics\n",
        "  return (result, (result.mean()).round(3), (result.std()).round(3))"
      ],
      "execution_count": 47,
      "outputs": []
    },
    {
      "cell_type": "markdown",
      "metadata": {
        "id": "lPc9Y86Jbto3",
        "colab_type": "text"
      },
      "source": [
        "# Preparing Datasets"
      ]
    },
    {
      "cell_type": "markdown",
      "metadata": {
        "id": "rU600QF7b7gw",
        "colab_type": "text"
      },
      "source": [
        "Read full dataset"
      ]
    },
    {
      "cell_type": "code",
      "metadata": {
        "id": "ARIPTLq2bz64",
        "colab_type": "code",
        "colab": {
          "base_uri": "https://localhost:8080/",
          "height": 68
        },
        "outputId": "294d349d-ad0b-4069-a008-d4602317187f"
      },
      "source": [
        "file =\"https://raw.githubusercontent.com/nguyennhutlam/sockpuppet_dataset/master/Feature_29_final.csv\"\n",
        "data = pd.read_csv(file)\n",
        "data.type.replace(['Sockpuppet','Legitimate_user'], [0, 1], inplace = True)\n",
        "data = data.drop(columns=['id']) #remove id column\n",
        "data['class'] = data['type']\n",
        "data = data.drop(columns=['type']) #remove type columns\n",
        "#sns.countplot(x='class', data=data)\n",
        "# number of instances in each class\n",
        "data['class'].value_counts()"
      ],
      "execution_count": 48,
      "outputs": [
        {
          "output_type": "execute_result",
          "data": {
            "text/plain": [
              "1    106230\n",
              "0      1668\n",
              "Name: class, dtype: int64"
            ]
          },
          "metadata": {
            "tags": []
          },
          "execution_count": 48
        }
      ]
    },
    {
      "cell_type": "code",
      "metadata": {
        "id": "2gnlEfhSItu5",
        "colab_type": "code",
        "colab": {}
      },
      "source": [
        "top5_chi2 = ['number_of_post_per_day',\n",
        "             'number_of_received_comments_per_article',\n",
        "            'median_push_interval',\n",
        "            'authorities' ,\n",
        "            'degree_in',\n",
        "             'class']\n",
        "top5_extratrees =['median_push_interval',\n",
        "                  'reponse_time_mean',\n",
        "                  'hubs',\n",
        "                  'received_rating_ratio',\n",
        "                  'received_rating_push',\n",
        "                  'class']\n",
        "top5_relief = [\n",
        "               'number_of_received_comments_per_article', \n",
        "               'diff_weekday_weekend',\n",
        "               'clustF',\n",
        "               'received_rating_ratio',\n",
        "               'number_of_comments_per_article',\n",
        "               'class']\n",
        "\n"
      ],
      "execution_count": 49,
      "outputs": []
    },
    {
      "cell_type": "code",
      "metadata": {
        "id": "6zkoaihnJOMi",
        "colab_type": "code",
        "colab": {}
      },
      "source": [
        "#data = data [top5_chi2]\n",
        "#data = data [top5_extratrees]\n",
        "data = data [top5_relief]"
      ],
      "execution_count": 50,
      "outputs": []
    },
    {
      "cell_type": "code",
      "metadata": {
        "id": "gyH5SuotKibZ",
        "colab_type": "code",
        "colab": {
          "base_uri": "https://localhost:8080/",
          "height": 204
        },
        "outputId": "4656ee2f-c5b3-4c9c-fac9-63a528486e35"
      },
      "source": [
        "data.head()"
      ],
      "execution_count": 51,
      "outputs": [
        {
          "output_type": "execute_result",
          "data": {
            "text/html": [
              "<div>\n",
              "<style scoped>\n",
              "    .dataframe tbody tr th:only-of-type {\n",
              "        vertical-align: middle;\n",
              "    }\n",
              "\n",
              "    .dataframe tbody tr th {\n",
              "        vertical-align: top;\n",
              "    }\n",
              "\n",
              "    .dataframe thead th {\n",
              "        text-align: right;\n",
              "    }\n",
              "</style>\n",
              "<table border=\"1\" class=\"dataframe\">\n",
              "  <thead>\n",
              "    <tr style=\"text-align: right;\">\n",
              "      <th></th>\n",
              "      <th>number_of_received_comments_per_article</th>\n",
              "      <th>diff_weekday_weekend</th>\n",
              "      <th>clustF</th>\n",
              "      <th>received_rating_ratio</th>\n",
              "      <th>number_of_comments_per_article</th>\n",
              "      <th>class</th>\n",
              "    </tr>\n",
              "  </thead>\n",
              "  <tbody>\n",
              "    <tr>\n",
              "      <th>0</th>\n",
              "      <td>0</td>\n",
              "      <td>0.0</td>\n",
              "      <td>1.000000</td>\n",
              "      <td>1.000000</td>\n",
              "      <td>1.000000</td>\n",
              "      <td>1</td>\n",
              "    </tr>\n",
              "    <tr>\n",
              "      <th>1</th>\n",
              "      <td>0</td>\n",
              "      <td>0.0</td>\n",
              "      <td>1.000000</td>\n",
              "      <td>1.000000</td>\n",
              "      <td>1.063830</td>\n",
              "      <td>1</td>\n",
              "    </tr>\n",
              "    <tr>\n",
              "      <th>2</th>\n",
              "      <td>0</td>\n",
              "      <td>0.0</td>\n",
              "      <td>1.000000</td>\n",
              "      <td>1.000000</td>\n",
              "      <td>1.000000</td>\n",
              "      <td>1</td>\n",
              "    </tr>\n",
              "    <tr>\n",
              "      <th>3</th>\n",
              "      <td>0</td>\n",
              "      <td>0.0</td>\n",
              "      <td>1.000000</td>\n",
              "      <td>1.000000</td>\n",
              "      <td>1.000000</td>\n",
              "      <td>1</td>\n",
              "    </tr>\n",
              "    <tr>\n",
              "      <th>4</th>\n",
              "      <td>24</td>\n",
              "      <td>0.2</td>\n",
              "      <td>0.322581</td>\n",
              "      <td>0.615894</td>\n",
              "      <td>1.239726</td>\n",
              "      <td>1</td>\n",
              "    </tr>\n",
              "  </tbody>\n",
              "</table>\n",
              "</div>"
            ],
            "text/plain": [
              "   number_of_received_comments_per_article  ...  class\n",
              "0                                        0  ...      1\n",
              "1                                        0  ...      1\n",
              "2                                        0  ...      1\n",
              "3                                        0  ...      1\n",
              "4                                       24  ...      1\n",
              "\n",
              "[5 rows x 6 columns]"
            ]
          },
          "metadata": {
            "tags": []
          },
          "execution_count": 51
        }
      ]
    },
    {
      "cell_type": "markdown",
      "metadata": {
        "id": "YwofxfGgb_UT",
        "colab_type": "text"
      },
      "source": [
        "Generate 10 Dataset using undersampling for training, store in dictinary\n",
        "*dataset*"
      ]
    },
    {
      "cell_type": "code",
      "metadata": {
        "id": "mh06KRnqb6G4",
        "colab_type": "code",
        "colab": {}
      },
      "source": [
        "import random\n",
        "dataset = {} # dictionary of dataframe\n",
        "for i in range(10):\n",
        "    random.seed(i)\n",
        "    dataset[str(i)] = undersampling(data,1)"
      ],
      "execution_count": 52,
      "outputs": []
    },
    {
      "cell_type": "code",
      "metadata": {
        "id": "zzTy-nmPc5_q",
        "colab_type": "code",
        "colab": {}
      },
      "source": [
        ""
      ],
      "execution_count": null,
      "outputs": []
    },
    {
      "cell_type": "markdown",
      "metadata": {
        "id": "-CnM0iyDc6Y6",
        "colab_type": "text"
      },
      "source": [
        "# Traing"
      ]
    },
    {
      "cell_type": "markdown",
      "metadata": {
        "id": "g4mySMYwdTAS",
        "colab_type": "text"
      },
      "source": [
        "Define the list of model"
      ]
    },
    {
      "cell_type": "code",
      "metadata": {
        "id": "bkDVEjPyc8xP",
        "colab_type": "code",
        "colab": {}
      },
      "source": [
        "model = []\n",
        "model.append(('NB',GaussianNB(var_smoothing=1e-05)))\n",
        "model.append(('kNN', KNeighborsClassifier(n_neighbors=15, weights='distance', algorithm='ball_tree')))\n",
        "model.append(('SVM', SVC(probability=True, C=100, kernel='rbf')))\n",
        "model.append(('RF', RandomForestClassifier(criterion='entropy', max_features=3, n_estimators= 200)))\n",
        "model.append(('Ada', AdaBoostClassifier(RandomForestClassifier(criterion='entropy', max_features=3, n_estimators= 200), learning_rate=0.3, n_estimators=100)))\n",
        "model.append(('XGB', XGBClassifier(colsample_bytree=0.7, gamma=1.5, max_depth=10, min_child_weight=5)))\n",
        "\n",
        "fold = 10"
      ],
      "execution_count": 54,
      "outputs": []
    },
    {
      "cell_type": "markdown",
      "metadata": {
        "id": "FIOvOP8rnJJM",
        "colab_type": "text"
      },
      "source": [
        "Result for each model for all datasets"
      ]
    },
    {
      "cell_type": "markdown",
      "metadata": {
        "id": "cv_fLppFoUz6",
        "colab_type": "text"
      },
      "source": [
        "0 Naive Bayes"
      ]
    },
    {
      "cell_type": "code",
      "metadata": {
        "id": "651FvJapnM67",
        "colab_type": "code",
        "colab": {
          "base_uri": "https://localhost:8080/",
          "height": 578
        },
        "outputId": "7977382a-5c46-4809-b29c-8b1eb40413dc"
      },
      "source": [
        "seed(1)\n",
        "m = 0 #NB\n",
        "clf = model[m][1]\n",
        "lbl = model[m][0]\n",
        "result, pred, prob = train_each_model_all_dataset(clf, lbl)\n",
        "print(result)\n",
        "print(pred)\n",
        "print(prob)"
      ],
      "execution_count": null,
      "outputs": [
        {
          "output_type": "stream",
          "text": [
            "0\n",
            "1\n",
            "2\n",
            "3\n",
            "4\n",
            "5\n",
            "6\n",
            "7\n",
            "8\n",
            "9\n",
            "  classifier  accuracy  precision  recall  f1_score  roc_auc\n",
            "0         NB     0.606      0.563   0.952     0.707    0.723\n",
            "1         NB     0.605      0.561   0.965     0.709    0.722\n",
            "2         NB     0.601      0.560   0.946     0.703    0.713\n",
            "3         NB     0.580      0.546   0.954     0.694    0.690\n",
            "4         NB     0.600      0.559   0.959     0.705    0.710\n",
            "5         NB     0.600      0.559   0.951     0.703    0.703\n",
            "6         NB     0.594      0.555   0.956     0.701    0.704\n",
            "7         NB     0.600      0.559   0.945     0.702    0.710\n",
            "8         NB     0.604      0.562   0.936     0.702    0.664\n",
            "9         NB     0.588      0.551   0.953     0.698    0.680\n",
            "accuracy     0.598\n",
            "precision    0.558\n",
            "recall       0.952\n",
            "f1_score     0.702\n",
            "roc_auc      0.702\n",
            "dtype: float64\n",
            "accuracy     0.008\n",
            "precision    0.005\n",
            "recall       0.008\n",
            "f1_score     0.004\n",
            "roc_auc      0.019\n",
            "dtype: float64\n"
          ],
          "name": "stdout"
        }
      ]
    },
    {
      "cell_type": "markdown",
      "metadata": {
        "id": "EyvjuDCsoZGd",
        "colab_type": "text"
      },
      "source": [
        "1 KNN"
      ]
    },
    {
      "cell_type": "code",
      "metadata": {
        "id": "iQY6V1VYfZU7",
        "colab_type": "code",
        "colab": {
          "base_uri": "https://localhost:8080/",
          "height": 578
        },
        "outputId": "3725d0f5-5031-42c6-9040-85688831f48f"
      },
      "source": [
        "seed(1)\n",
        "m = 1 # KNN\n",
        "clf = model[m][1]\n",
        "lbl = model[m][0]\n",
        "result, pred, prob = train_each_model_all_dataset(clf, lbl)\n",
        "print(result)\n",
        "print(pred)\n",
        "print(prob)"
      ],
      "execution_count": null,
      "outputs": [
        {
          "output_type": "stream",
          "text": [
            "0\n",
            "1\n",
            "2\n",
            "3\n",
            "4\n",
            "5\n",
            "6\n",
            "7\n",
            "8\n",
            "9\n",
            "  classifier  accuracy  precision  recall  f1_score  roc_auc\n",
            "0        kNN     0.671      0.675   0.656     0.664    0.723\n",
            "1        kNN     0.649      0.665   0.601     0.630    0.677\n",
            "2        kNN     0.674      0.672   0.680     0.674    0.728\n",
            "3        kNN     0.649      0.659   0.621     0.637    0.690\n",
            "4        kNN     0.651      0.660   0.621     0.638    0.707\n",
            "5        kNN     0.671      0.670   0.676     0.672    0.721\n",
            "6        kNN     0.656      0.667   0.623     0.642    0.699\n",
            "7        kNN     0.652      0.661   0.619     0.636    0.695\n",
            "8        kNN     0.628      0.637   0.601     0.617    0.666\n",
            "9        kNN     0.656      0.662   0.633     0.646    0.699\n",
            "accuracy     0.656\n",
            "precision    0.663\n",
            "recall       0.633\n",
            "f1_score     0.646\n",
            "roc_auc      0.700\n",
            "dtype: float64\n",
            "accuracy     0.014\n",
            "precision    0.011\n",
            "recall       0.028\n",
            "f1_score     0.019\n",
            "roc_auc      0.020\n",
            "dtype: float64\n"
          ],
          "name": "stdout"
        }
      ]
    },
    {
      "cell_type": "markdown",
      "metadata": {
        "id": "A1x1X-Dtorum",
        "colab_type": "text"
      },
      "source": [
        "2 SVM"
      ]
    },
    {
      "cell_type": "code",
      "metadata": {
        "id": "on0lc4zsoTvr",
        "colab_type": "code",
        "colab": {
          "base_uri": "https://localhost:8080/",
          "height": 578
        },
        "outputId": "43fa4251-2da0-4450-b181-9410276e6a0b"
      },
      "source": [
        "seed(1)\n",
        "m = 2 # SVM\n",
        "clf = model[m][1]\n",
        "lbl = model[m][0]\n",
        "result, pred, prob = train_each_model_all_dataset(clf, lbl)\n",
        "print(result)\n",
        "print(pred)\n",
        "print(prob)"
      ],
      "execution_count": null,
      "outputs": [
        {
          "output_type": "stream",
          "text": [
            "0\n",
            "1\n",
            "2\n",
            "3\n",
            "4\n",
            "5\n",
            "6\n",
            "7\n",
            "8\n",
            "9\n",
            "  classifier  accuracy  precision  recall  f1_score  roc_auc\n",
            "0        SVM     0.707      0.682   0.778     0.726    0.762\n",
            "1        SVM     0.702      0.677   0.775     0.722    0.757\n",
            "2        SVM     0.709      0.685   0.780     0.729    0.764\n",
            "3        SVM     0.701      0.673   0.785     0.724    0.752\n",
            "4        SVM     0.702      0.677   0.779     0.723    0.753\n",
            "5        SVM     0.699      0.671   0.782     0.722    0.751\n",
            "6        SVM     0.708      0.681   0.791     0.731    0.759\n",
            "7        SVM     0.709      0.685   0.774     0.725    0.760\n",
            "8        SVM     0.693      0.669   0.771     0.715    0.748\n",
            "9        SVM     0.709      0.687   0.768     0.725    0.764\n",
            "accuracy     0.704\n",
            "precision    0.679\n",
            "recall       0.778\n",
            "f1_score     0.724\n",
            "roc_auc      0.757\n",
            "dtype: float64\n",
            "accuracy     0.005\n",
            "precision    0.006\n",
            "recall       0.007\n",
            "f1_score     0.004\n",
            "roc_auc      0.006\n",
            "dtype: float64\n"
          ],
          "name": "stdout"
        }
      ]
    },
    {
      "cell_type": "markdown",
      "metadata": {
        "id": "BBit5lJirddf",
        "colab_type": "text"
      },
      "source": [
        "3 Random Forest"
      ]
    },
    {
      "cell_type": "code",
      "metadata": {
        "id": "JBE0I6v5rctx",
        "colab_type": "code",
        "colab": {
          "base_uri": "https://localhost:8080/",
          "height": 578
        },
        "outputId": "96998576-961e-4415-99cb-4b025fbe554b"
      },
      "source": [
        "seed(1)\n",
        "m = 3 #Random Forest\n",
        "clf = model[m][1]\n",
        "lbl = model[m][0]\n",
        "result, pred, prob = train_each_model_all_dataset(clf, lbl)\n",
        "print(result)\n",
        "print(pred)\n",
        "print(prob)"
      ],
      "execution_count": null,
      "outputs": [
        {
          "output_type": "stream",
          "text": [
            "0\n",
            "1\n",
            "2\n",
            "3\n",
            "4\n",
            "5\n",
            "6\n",
            "7\n",
            "8\n",
            "9\n",
            "  classifier  accuracy  precision  recall  f1_score  roc_auc\n",
            "0         RF     0.709      0.706   0.725     0.714    0.759\n",
            "1         RF     0.710      0.705   0.722     0.713    0.776\n",
            "2         RF     0.713      0.709   0.725     0.716    0.772\n",
            "3         RF     0.712      0.709   0.721     0.714    0.768\n",
            "4         RF     0.704      0.702   0.716     0.708    0.758\n",
            "5         RF     0.692      0.691   0.696     0.693    0.758\n",
            "6         RF     0.713      0.710   0.728     0.717    0.776\n",
            "7         RF     0.708      0.702   0.725     0.712    0.777\n",
            "8         RF     0.696      0.694   0.704     0.698    0.755\n",
            "9         RF     0.706      0.698   0.728     0.712    0.770\n",
            "accuracy     0.706\n",
            "precision    0.703\n",
            "recall       0.719\n",
            "f1_score     0.710\n",
            "roc_auc      0.767\n",
            "dtype: float64\n",
            "accuracy     0.007\n",
            "precision    0.007\n",
            "recall       0.011\n",
            "f1_score     0.008\n",
            "roc_auc      0.009\n",
            "dtype: float64\n"
          ],
          "name": "stdout"
        }
      ]
    },
    {
      "cell_type": "markdown",
      "metadata": {
        "id": "FSqT_qBlrtRN",
        "colab_type": "text"
      },
      "source": [
        "4 AdaBoost"
      ]
    },
    {
      "cell_type": "code",
      "metadata": {
        "id": "giXJyhgLryl6",
        "colab_type": "code",
        "colab": {
          "base_uri": "https://localhost:8080/",
          "height": 578
        },
        "outputId": "986a96de-9dc2-41b3-8159-fd30baa7f8f2"
      },
      "source": [
        "seed(1)\n",
        "m = 4 #AdaBoost\n",
        "clf = model[m][1]\n",
        "lbl = model[m][0]\n",
        "result, pred, prob = train_each_model_all_dataset(clf, lbl)\n",
        "print(result)\n",
        "print(pred)\n",
        "print(prob)"
      ],
      "execution_count": 55,
      "outputs": [
        {
          "output_type": "stream",
          "text": [
            "0\n",
            "1\n",
            "2\n",
            "3\n",
            "4\n",
            "5\n",
            "6\n",
            "7\n",
            "8\n",
            "9\n",
            "  classifier  accuracy  precision  recall  f1_score  roc_auc\n",
            "0        Ada     0.708      0.704   0.724     0.713    0.738\n",
            "1        Ada     0.710      0.707   0.720     0.712    0.751\n",
            "2        Ada     0.709      0.705   0.721     0.712    0.746\n",
            "3        Ada     0.698      0.694   0.708     0.701    0.733\n",
            "4        Ada     0.695      0.692   0.707     0.698    0.729\n",
            "5        Ada     0.701      0.696   0.712     0.702    0.735\n",
            "6        Ada     0.708      0.704   0.720     0.711    0.743\n",
            "7        Ada     0.723      0.716   0.742     0.727    0.759\n",
            "8        Ada     0.693      0.687   0.710     0.698    0.720\n",
            "9        Ada     0.692      0.690   0.701     0.694    0.727\n",
            "accuracy     0.704\n",
            "precision    0.699\n",
            "recall       0.716\n",
            "f1_score     0.707\n",
            "roc_auc      0.738\n",
            "dtype: float64\n",
            "accuracy     0.010\n",
            "precision    0.009\n",
            "recall       0.012\n",
            "f1_score     0.010\n",
            "roc_auc      0.012\n",
            "dtype: float64\n"
          ],
          "name": "stdout"
        }
      ]
    },
    {
      "cell_type": "markdown",
      "metadata": {
        "id": "lXyoYmPLr3oT",
        "colab_type": "text"
      },
      "source": [
        "5 XGBoost"
      ]
    },
    {
      "cell_type": "code",
      "metadata": {
        "id": "ixx6P5ASr5gL",
        "colab_type": "code",
        "colab": {
          "base_uri": "https://localhost:8080/",
          "height": 578
        },
        "outputId": "fa198c82-7314-4afc-a877-1accc0f55e98"
      },
      "source": [
        "seed(1)\n",
        "m = 5 #XGBoost\n",
        "clf = model[m][1]\n",
        "lbl = model[m][0]\n",
        "result, pred, prob = train_each_model_all_dataset(clf, lbl)\n",
        "print(result)\n",
        "print(pred)\n",
        "print(prob)"
      ],
      "execution_count": null,
      "outputs": [
        {
          "output_type": "stream",
          "text": [
            "0\n",
            "1\n",
            "2\n",
            "3\n",
            "4\n",
            "5\n",
            "6\n",
            "7\n",
            "8\n",
            "9\n",
            "  classifier  accuracy  precision  recall  f1_score  roc_auc\n",
            "0        XGB     0.724      0.715   0.755     0.733    0.779\n",
            "1        XGB     0.715      0.700   0.750     0.724    0.775\n",
            "2        XGB     0.718      0.707   0.751     0.727    0.785\n",
            "3        XGB     0.716      0.704   0.748     0.724    0.780\n",
            "4        XGB     0.714      0.701   0.747     0.722    0.770\n",
            "5        XGB     0.711      0.697   0.744     0.719    0.772\n",
            "6        XGB     0.714      0.703   0.748     0.723    0.782\n",
            "7        XGB     0.731      0.718   0.763     0.739    0.791\n",
            "8        XGB     0.702      0.695   0.725     0.708    0.763\n",
            "9        XGB     0.719      0.704   0.756     0.729    0.781\n",
            "accuracy     0.716\n",
            "precision    0.704\n",
            "recall       0.749\n",
            "f1_score     0.725\n",
            "roc_auc      0.778\n",
            "dtype: float64\n",
            "accuracy     0.008\n",
            "precision    0.007\n",
            "recall       0.010\n",
            "f1_score     0.008\n",
            "roc_auc      0.008\n",
            "dtype: float64\n"
          ],
          "name": "stdout"
        }
      ]
    }
  ]
}